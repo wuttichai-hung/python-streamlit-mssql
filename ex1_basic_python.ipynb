{
  "cells": [
    {
      "cell_type": "markdown",
      "metadata": {
        "id": "YFXDHzKB5U-2"
      },
      "source": [
        "# Jupyter Notebook"
      ]
    },
    {
      "cell_type": "code",
      "execution_count": 2,
      "metadata": {
        "colab": {
          "base_uri": "https://localhost:8080/"
        },
        "id": "uqpHKkIl48vo",
        "outputId": "3c160c03-f702-4977-9690-6afd564d0254"
      },
      "outputs": [
        {
          "name": "stdout",
          "output_type": "stream",
          "text": [
            "Python 3.12.0\n"
          ]
        }
      ],
      "source": [
        "! python --version"
      ]
    },
    {
      "cell_type": "code",
      "execution_count": 3,
      "metadata": {
        "colab": {
          "base_uri": "https://localhost:8080/"
        },
        "id": "7QNJlO1C4WSI",
        "outputId": "236540f2-cce4-4fdb-bd74-69e6ebdd53dc"
      },
      "outputs": [
        {
          "name": "stdout",
          "output_type": "stream",
          "text": [
            "Hello, World!\n"
          ]
        }
      ],
      "source": [
        "print(\"Hello, World!\")"
      ]
    },
    {
      "cell_type": "code",
      "execution_count": 4,
      "metadata": {
        "colab": {
          "base_uri": "https://localhost:8080/"
        },
        "id": "JsTp9Q3O4lCQ",
        "outputId": "205662b9-51bf-4dbb-a5f1-5890f478761a"
      },
      "outputs": [
        {
          "name": "stdout",
          "output_type": "stream",
          "text": [
            "Hello, World!\n"
          ]
        }
      ],
      "source": [
        "text = \"Hello, World!\"\n",
        "print(text)"
      ]
    },
    {
      "cell_type": "code",
      "execution_count": 5,
      "metadata": {
        "colab": {
          "base_uri": "https://localhost:8080/",
          "height": 36
        },
        "id": "QOAm9jqk4om_",
        "outputId": "35d9a43b-ac15-4894-f53d-896b9d88c616"
      },
      "outputs": [
        {
          "data": {
            "text/plain": [
              "'Hello, World!'"
            ]
          },
          "execution_count": 5,
          "metadata": {},
          "output_type": "execute_result"
        }
      ],
      "source": [
        "text"
      ]
    },
    {
      "cell_type": "markdown",
      "metadata": {
        "id": "bjISNztE5KcU"
      },
      "source": [
        "# Comment"
      ]
    },
    {
      "cell_type": "code",
      "execution_count": 6,
      "metadata": {
        "colab": {
          "base_uri": "https://localhost:8080/"
        },
        "id": "u_dbw3hT5Lhq",
        "outputId": "33fedf04-ac58-4b24-953c-928eda385eb0"
      },
      "outputs": [
        {
          "name": "stdout",
          "output_type": "stream",
          "text": [
            "Hello, World!\n"
          ]
        }
      ],
      "source": [
        "# This is a comment\n",
        "print(\"Hello, World!\")"
      ]
    },
    {
      "cell_type": "code",
      "execution_count": 7,
      "metadata": {
        "colab": {
          "base_uri": "https://localhost:8080/"
        },
        "id": "YqOntBV25O7-",
        "outputId": "eee98be3-a605-4b4a-fc37-ffede814b0a2"
      },
      "outputs": [
        {
          "name": "stdout",
          "output_type": "stream",
          "text": [
            "Hello, World!\n"
          ]
        }
      ],
      "source": [
        "print(\"Hello, World!\") # This is a comment"
      ]
    },
    {
      "cell_type": "markdown",
      "metadata": {
        "id": "t1sHqEuN5yW1"
      },
      "source": [
        "# Variable"
      ]
    },
    {
      "cell_type": "code",
      "execution_count": 8,
      "metadata": {
        "id": "83PF_Bz75O-f"
      },
      "outputs": [],
      "source": [
        "x_text = \"John\"\n",
        "x_int = 5\n",
        "x_float = 5.0\n",
        "x_bool = True # False\n",
        "x_list = [1, 2, 3, 'abc']\n",
        "x_dict = {'x': 5, 'y': 10}\n",
        "x_none = None"
      ]
    },
    {
      "cell_type": "code",
      "execution_count": 9,
      "metadata": {
        "colab": {
          "base_uri": "https://localhost:8080/"
        },
        "id": "I9LJ_TXlGySb",
        "outputId": "3d471fe9-2d35-4d94-dea4-8517d1a6325e"
      },
      "outputs": [
        {
          "name": "stdout",
          "output_type": "stream",
          "text": [
            "\n",
            "my text line1\n",
            "my text line2\n",
            "\n"
          ]
        }
      ],
      "source": [
        "x_text2 = \"\"\"\n",
        "my text line1\n",
        "my text line2\n",
        "\"\"\"\n",
        "print(x_text2)"
      ]
    },
    {
      "cell_type": "code",
      "execution_count": 10,
      "metadata": {
        "colab": {
          "base_uri": "https://localhost:8080/"
        },
        "id": "cCDVUDFb82_S",
        "outputId": "42f6ffcb-ccd4-4854-b468-28772e325d29"
      },
      "outputs": [
        {
          "data": {
            "text/plain": [
              "('1', 1, 1.0, True)"
            ]
          },
          "execution_count": 10,
          "metadata": {},
          "output_type": "execute_result"
        }
      ],
      "source": [
        "# casting\n",
        "x = str(1)\n",
        "y = int(1)\n",
        "z = float(1)\n",
        "a = bool(1)\n",
        "x, y, z, a"
      ]
    },
    {
      "cell_type": "code",
      "execution_count": 11,
      "metadata": {
        "id": "h-SF7kgD8k0a"
      },
      "outputs": [],
      "source": [
        "# Legal variable names\n",
        "myvar = \"John\" # recommended\n",
        "my_var = \"John\" # recommended\n",
        "_my_var = \"John\"\n",
        "myVar = \"John\"\n",
        "MYVAR = \"John\"\n",
        "myvar2 = \"John\" # recommended"
      ]
    },
    {
      "cell_type": "code",
      "execution_count": 12,
      "metadata": {
        "colab": {
          "base_uri": "https://localhost:8080/",
          "height": 144
        },
        "id": "53CMnM7G8s5h",
        "outputId": "a786c22a-fded-4e11-b97a-615a651fcdd9"
      },
      "outputs": [
        {
          "ename": "SyntaxError",
          "evalue": "invalid decimal literal (2068804592.py, line 2)",
          "output_type": "error",
          "traceback": [
            "\u001b[1;36m  Cell \u001b[1;32mIn[12], line 2\u001b[1;36m\u001b[0m\n\u001b[1;33m    2myvar = \"John\"\u001b[0m\n\u001b[1;37m    ^\u001b[0m\n\u001b[1;31mSyntaxError\u001b[0m\u001b[1;31m:\u001b[0m invalid decimal literal\n"
          ]
        }
      ],
      "source": [
        "# Illegal variable names\n",
        "2myvar = \"John\"\n",
        "my-var = \"John\"\n",
        "my var = \"John\""
      ]
    },
    {
      "cell_type": "markdown",
      "metadata": {
        "id": "0QBbhmZ--CtY"
      },
      "source": [
        "# Operator"
      ]
    },
    {
      "cell_type": "markdown",
      "metadata": {
        "id": "LCBr7dX8-4wc"
      },
      "source": [
        "## Mathematical operations"
      ]
    },
    {
      "cell_type": "code",
      "execution_count": 13,
      "metadata": {
        "colab": {
          "base_uri": "https://localhost:8080/"
        },
        "id": "D5F-VvR6-FUU",
        "outputId": "f06973f9-1bf1-4ec4-e898-2f38c4d6f230"
      },
      "outputs": [
        {
          "data": {
            "text/plain": [
              "8"
            ]
          },
          "execution_count": 13,
          "metadata": {},
          "output_type": "execute_result"
        }
      ],
      "source": [
        "# plus\n",
        "5 + 3"
      ]
    },
    {
      "cell_type": "code",
      "execution_count": 14,
      "metadata": {
        "colab": {
          "base_uri": "https://localhost:8080/"
        },
        "id": "K8bWh560-G1p",
        "outputId": "52b3008c-ab66-45da-c4e0-51245c83ab89"
      },
      "outputs": [
        {
          "data": {
            "text/plain": [
              "8.0"
            ]
          },
          "execution_count": 14,
          "metadata": {},
          "output_type": "execute_result"
        }
      ],
      "source": [
        "5.0 + 3.0"
      ]
    },
    {
      "cell_type": "code",
      "execution_count": 15,
      "metadata": {
        "colab": {
          "base_uri": "https://localhost:8080/"
        },
        "id": "XbL072qF-G4B",
        "outputId": "6b8903b2-f1d3-4393-d459-34dcf0ce02f4"
      },
      "outputs": [
        {
          "data": {
            "text/plain": [
              "8.0"
            ]
          },
          "execution_count": 15,
          "metadata": {},
          "output_type": "execute_result"
        }
      ],
      "source": [
        "5.0 + 3"
      ]
    },
    {
      "cell_type": "code",
      "execution_count": 16,
      "metadata": {
        "colab": {
          "base_uri": "https://localhost:8080/",
          "height": 36
        },
        "id": "uz-j_jE6-G6T",
        "outputId": "0db8302c-f7b0-4e9e-91d2-0dc0f17afe8d"
      },
      "outputs": [
        {
          "data": {
            "text/plain": [
              "'53'"
            ]
          },
          "execution_count": 16,
          "metadata": {},
          "output_type": "execute_result"
        }
      ],
      "source": [
        "'5' + '3'"
      ]
    },
    {
      "cell_type": "code",
      "execution_count": 17,
      "metadata": {
        "colab": {
          "base_uri": "https://localhost:8080/"
        },
        "id": "vtXM1CQv-MdL",
        "outputId": "6bc8cb81-ba7b-4efa-88cc-f48c8f1cca59"
      },
      "outputs": [
        {
          "data": {
            "text/plain": [
              "2"
            ]
          },
          "execution_count": 17,
          "metadata": {},
          "output_type": "execute_result"
        }
      ],
      "source": [
        "# minus\n",
        "5 - 3"
      ]
    },
    {
      "cell_type": "code",
      "execution_count": 18,
      "metadata": {
        "colab": {
          "base_uri": "https://localhost:8080/"
        },
        "id": "66gh_7hE-Mfp",
        "outputId": "643dee97-7366-4d24-dca7-b2c7e9c2b9eb"
      },
      "outputs": [
        {
          "data": {
            "text/plain": [
              "15"
            ]
          },
          "execution_count": 18,
          "metadata": {},
          "output_type": "execute_result"
        }
      ],
      "source": [
        "# multi\n",
        "5 * 3"
      ]
    },
    {
      "cell_type": "code",
      "execution_count": 19,
      "metadata": {
        "colab": {
          "base_uri": "https://localhost:8080/"
        },
        "id": "2elnE2fK-Mhz",
        "outputId": "6d21d6f4-2934-437b-a9b5-b11842f59038"
      },
      "outputs": [
        {
          "data": {
            "text/plain": [
              "1.6666666666666667"
            ]
          },
          "execution_count": 19,
          "metadata": {},
          "output_type": "execute_result"
        }
      ],
      "source": [
        "#divide\n",
        "5 / 3"
      ]
    },
    {
      "cell_type": "code",
      "execution_count": 20,
      "metadata": {
        "colab": {
          "base_uri": "https://localhost:8080/"
        },
        "id": "usaT-W4H-iRk",
        "outputId": "4d259989-4786-421e-dd0f-df21d6734e5a"
      },
      "outputs": [
        {
          "data": {
            "text/plain": [
              "1"
            ]
          },
          "execution_count": 20,
          "metadata": {},
          "output_type": "execute_result"
        }
      ],
      "source": [
        "# Floor division\n",
        "5 // 3"
      ]
    },
    {
      "cell_type": "code",
      "execution_count": 21,
      "metadata": {
        "colab": {
          "base_uri": "https://localhost:8080/"
        },
        "id": "klEWY979-kaJ",
        "outputId": "8b59887b-755b-46c0-ea30-2b0ed47bf230"
      },
      "outputs": [
        {
          "data": {
            "text/plain": [
              "2"
            ]
          },
          "execution_count": 21,
          "metadata": {},
          "output_type": "execute_result"
        }
      ],
      "source": [
        "5 % 3"
      ]
    },
    {
      "cell_type": "code",
      "execution_count": 22,
      "metadata": {
        "colab": {
          "base_uri": "https://localhost:8080/"
        },
        "id": "vo-9XIfy-MkC",
        "outputId": "6d471a68-5ca0-401a-fd3b-4ac70432d417"
      },
      "outputs": [
        {
          "data": {
            "text/plain": [
              "125"
            ]
          },
          "execution_count": 22,
          "metadata": {},
          "output_type": "execute_result"
        }
      ],
      "source": [
        "5 ** 3 # 5^3"
      ]
    },
    {
      "cell_type": "markdown",
      "metadata": {
        "id": "_Hoffdtj-xG3"
      },
      "source": [
        "## Comparison operators"
      ]
    },
    {
      "cell_type": "code",
      "execution_count": 23,
      "metadata": {
        "colab": {
          "base_uri": "https://localhost:8080/"
        },
        "id": "9Dx4TCZz-76g",
        "outputId": "7dfaf902-80b3-4553-dc67-8a858ea66bdc"
      },
      "outputs": [
        {
          "data": {
            "text/plain": [
              "False"
            ]
          },
          "execution_count": 23,
          "metadata": {},
          "output_type": "execute_result"
        }
      ],
      "source": [
        "5 == 3"
      ]
    },
    {
      "cell_type": "code",
      "execution_count": 24,
      "metadata": {
        "colab": {
          "base_uri": "https://localhost:8080/"
        },
        "id": "YFzNRnb9_Bko",
        "outputId": "fcdc3412-f1a6-440b-8e27-0590fd005919"
      },
      "outputs": [
        {
          "data": {
            "text/plain": [
              "True"
            ]
          },
          "execution_count": 24,
          "metadata": {},
          "output_type": "execute_result"
        }
      ],
      "source": [
        "5 != 3"
      ]
    },
    {
      "cell_type": "code",
      "execution_count": 25,
      "metadata": {
        "colab": {
          "base_uri": "https://localhost:8080/"
        },
        "id": "WtbuVr4S-9gW",
        "outputId": "d7f8b679-0392-4126-a8e2-2150cd0ea6f9"
      },
      "outputs": [
        {
          "data": {
            "text/plain": [
              "True"
            ]
          },
          "execution_count": 25,
          "metadata": {},
          "output_type": "execute_result"
        }
      ],
      "source": [
        "5 > 3"
      ]
    },
    {
      "cell_type": "code",
      "execution_count": 26,
      "metadata": {
        "colab": {
          "base_uri": "https://localhost:8080/"
        },
        "id": "KMU05OJp-9iu",
        "outputId": "e0b7092c-b8f9-4a91-85da-67efe1242dd5"
      },
      "outputs": [
        {
          "data": {
            "text/plain": [
              "False"
            ]
          },
          "execution_count": 26,
          "metadata": {},
          "output_type": "execute_result"
        }
      ],
      "source": [
        "5 <  3"
      ]
    },
    {
      "cell_type": "code",
      "execution_count": 27,
      "metadata": {
        "colab": {
          "base_uri": "https://localhost:8080/"
        },
        "id": "3WEDF0UT-9k-",
        "outputId": "1d88cebc-1de7-4f55-d0ae-7c130fd66cb8"
      },
      "outputs": [
        {
          "data": {
            "text/plain": [
              "True"
            ]
          },
          "execution_count": 27,
          "metadata": {},
          "output_type": "execute_result"
        }
      ],
      "source": [
        "5 >= 3"
      ]
    },
    {
      "cell_type": "code",
      "execution_count": 28,
      "metadata": {
        "colab": {
          "base_uri": "https://localhost:8080/"
        },
        "id": "vDm4GzOK_Eou",
        "outputId": "acc13d41-a7c6-484e-9a00-f64c33b1521c"
      },
      "outputs": [
        {
          "data": {
            "text/plain": [
              "False"
            ]
          },
          "execution_count": 28,
          "metadata": {},
          "output_type": "execute_result"
        }
      ],
      "source": [
        "5 <= 3"
      ]
    },
    {
      "cell_type": "code",
      "execution_count": 29,
      "metadata": {
        "colab": {
          "base_uri": "https://localhost:8080/"
        },
        "id": "IoUgi0nmElaH",
        "outputId": "501be1ea-e708-4e0a-fcb1-8b217debfb5c"
      },
      "outputs": [
        {
          "data": {
            "text/plain": [
              "True"
            ]
          },
          "execution_count": 29,
          "metadata": {},
          "output_type": "execute_result"
        }
      ],
      "source": [
        "True and True"
      ]
    },
    {
      "cell_type": "code",
      "execution_count": 30,
      "metadata": {
        "colab": {
          "base_uri": "https://localhost:8080/"
        },
        "id": "PqmLxxZKErqt",
        "outputId": "4d887c0f-a01d-490a-c8c6-712d3fa22dd6"
      },
      "outputs": [
        {
          "data": {
            "text/plain": [
              "False"
            ]
          },
          "execution_count": 30,
          "metadata": {},
          "output_type": "execute_result"
        }
      ],
      "source": [
        "True and False"
      ]
    },
    {
      "cell_type": "code",
      "execution_count": 31,
      "metadata": {
        "colab": {
          "base_uri": "https://localhost:8080/"
        },
        "id": "FgSXN4zPEtmL",
        "outputId": "eb41c27a-ad7f-42c2-8b2f-b832b02b27f3"
      },
      "outputs": [
        {
          "data": {
            "text/plain": [
              "True"
            ]
          },
          "execution_count": 31,
          "metadata": {},
          "output_type": "execute_result"
        }
      ],
      "source": [
        "True or False"
      ]
    },
    {
      "cell_type": "code",
      "execution_count": 32,
      "metadata": {
        "colab": {
          "base_uri": "https://localhost:8080/"
        },
        "id": "w-Z_8HSDEtoT",
        "outputId": "2c664605-629b-45f7-fcbc-733cf305f86d"
      },
      "outputs": [
        {
          "data": {
            "text/plain": [
              "False"
            ]
          },
          "execution_count": 32,
          "metadata": {},
          "output_type": "execute_result"
        }
      ],
      "source": [
        "False or False"
      ]
    },
    {
      "cell_type": "markdown",
      "metadata": {
        "id": "-EA8QnI2_Sxo"
      },
      "source": [
        "## Identity Operators"
      ]
    },
    {
      "cell_type": "code",
      "execution_count": 33,
      "metadata": {
        "colab": {
          "base_uri": "https://localhost:8080/"
        },
        "id": "ZSqi9fqXbJo_",
        "outputId": "cf2f4411-a1c0-4412-8d6f-07c800c11d17"
      },
      "outputs": [
        {
          "data": {
            "text/plain": [
              "float"
            ]
          },
          "execution_count": 33,
          "metadata": {},
          "output_type": "execute_result"
        }
      ],
      "source": [
        "type(5.0)"
      ]
    },
    {
      "cell_type": "code",
      "execution_count": 34,
      "metadata": {
        "colab": {
          "base_uri": "https://localhost:8080/"
        },
        "id": "cPv8iYfj_VSM",
        "outputId": "73e1ac97-9c1e-4205-aa21-6ac43b14e9ee"
      },
      "outputs": [
        {
          "data": {
            "text/plain": [
              "True"
            ]
          },
          "execution_count": 34,
          "metadata": {},
          "output_type": "execute_result"
        }
      ],
      "source": [
        "type(5.0) is float"
      ]
    },
    {
      "cell_type": "code",
      "execution_count": 35,
      "metadata": {
        "colab": {
          "base_uri": "https://localhost:8080/"
        },
        "id": "YRj-w95-_Ymo",
        "outputId": "b933fa83-5255-4df6-f3e5-edbf5dee9a6c"
      },
      "outputs": [
        {
          "data": {
            "text/plain": [
              "True"
            ]
          },
          "execution_count": 35,
          "metadata": {},
          "output_type": "execute_result"
        }
      ],
      "source": [
        "x = None\n",
        "x is None"
      ]
    },
    {
      "cell_type": "code",
      "execution_count": 36,
      "metadata": {
        "colab": {
          "base_uri": "https://localhost:8080/"
        },
        "id": "GLhv8W8t_jox",
        "outputId": "2f661099-6b28-4f09-c7f6-b557ead16325"
      },
      "outputs": [
        {
          "data": {
            "text/plain": [
              "True"
            ]
          },
          "execution_count": 36,
          "metadata": {},
          "output_type": "execute_result"
        }
      ],
      "source": [
        "y = 5\n",
        "y is not None"
      ]
    },
    {
      "cell_type": "markdown",
      "metadata": {
        "id": "GRis3Ny0_Kpz"
      },
      "source": [
        "## Membership operators"
      ]
    },
    {
      "cell_type": "code",
      "execution_count": 37,
      "metadata": {
        "colab": {
          "base_uri": "https://localhost:8080/"
        },
        "id": "h1pa0cj9_NaI",
        "outputId": "08065b39-1bdd-4ccd-d2f1-7c8781078358"
      },
      "outputs": [
        {
          "data": {
            "text/plain": [
              "True"
            ]
          },
          "execution_count": 37,
          "metadata": {},
          "output_type": "execute_result"
        }
      ],
      "source": [
        "5 in [3, 5]"
      ]
    },
    {
      "cell_type": "code",
      "execution_count": 38,
      "metadata": {
        "colab": {
          "base_uri": "https://localhost:8080/"
        },
        "id": "btICZJXq_Ncg",
        "outputId": "b664a8ad-f38e-4c91-f4b8-0ac18958ee33"
      },
      "outputs": [
        {
          "data": {
            "text/plain": [
              "False"
            ]
          },
          "execution_count": 38,
          "metadata": {},
          "output_type": "execute_result"
        }
      ],
      "source": [
        "5 not in [3, 5]"
      ]
    },
    {
      "cell_type": "markdown",
      "metadata": {
        "id": "Chjh7ysvBP3p"
      },
      "source": [
        "# List"
      ]
    },
    {
      "cell_type": "code",
      "execution_count": 39,
      "metadata": {
        "colab": {
          "base_uri": "https://localhost:8080/"
        },
        "id": "P63F5OrVBS6V",
        "outputId": "333979de-ae63-48bc-89c1-94a7b34b1d86"
      },
      "outputs": [
        {
          "data": {
            "text/plain": [
              "['apple', 'cherry', 'banana']"
            ]
          },
          "execution_count": 39,
          "metadata": {},
          "output_type": "execute_result"
        }
      ],
      "source": [
        "mylist = [\"apple\", \"cherry\", \"banana\"]\n",
        "mylist"
      ]
    },
    {
      "cell_type": "code",
      "execution_count": 40,
      "metadata": {
        "colab": {
          "base_uri": "https://localhost:8080/",
          "height": 36
        },
        "id": "hSFWBPMqBXIH",
        "outputId": "475c75b1-75a4-4396-e9a3-f5f13797f048"
      },
      "outputs": [
        {
          "data": {
            "text/plain": [
              "'apple'"
            ]
          },
          "execution_count": 40,
          "metadata": {},
          "output_type": "execute_result"
        }
      ],
      "source": [
        "mylist[0]"
      ]
    },
    {
      "cell_type": "code",
      "execution_count": 41,
      "metadata": {
        "colab": {
          "base_uri": "https://localhost:8080/",
          "height": 36
        },
        "id": "mqjCdNhMB6AI",
        "outputId": "ae877bfb-fcd4-4e7c-aca4-2fc2e33919c8"
      },
      "outputs": [
        {
          "data": {
            "text/plain": [
              "'banana'"
            ]
          },
          "execution_count": 41,
          "metadata": {},
          "output_type": "execute_result"
        }
      ],
      "source": [
        "mylist[-1]"
      ]
    },
    {
      "cell_type": "code",
      "execution_count": 42,
      "metadata": {
        "colab": {
          "base_uri": "https://localhost:8080/",
          "height": 36
        },
        "id": "8pr_x0arb3wo",
        "outputId": "73f17a6c-7142-4512-ec9f-f1d1ba4db306"
      },
      "outputs": [
        {
          "data": {
            "text/plain": [
              "'apple'"
            ]
          },
          "execution_count": 42,
          "metadata": {},
          "output_type": "execute_result"
        }
      ],
      "source": [
        "mylist[-3]"
      ]
    },
    {
      "cell_type": "code",
      "execution_count": 43,
      "metadata": {
        "colab": {
          "base_uri": "https://localhost:8080/"
        },
        "id": "hcD1nTC-BZ9T",
        "outputId": "dc381b5f-8167-4570-f220-7e95f87c1a61"
      },
      "outputs": [
        {
          "data": {
            "text/plain": [
              "3"
            ]
          },
          "execution_count": 43,
          "metadata": {},
          "output_type": "execute_result"
        }
      ],
      "source": [
        "len(mylist)"
      ]
    },
    {
      "cell_type": "code",
      "execution_count": 44,
      "metadata": {
        "colab": {
          "base_uri": "https://localhost:8080/"
        },
        "id": "ZFrnq1AVBePl",
        "outputId": "af9e522b-a196-473b-9e48-bf2742e845e3"
      },
      "outputs": [
        {
          "data": {
            "text/plain": [
              "['apple', 'banana', 'cherry']"
            ]
          },
          "execution_count": 44,
          "metadata": {},
          "output_type": "execute_result"
        }
      ],
      "source": [
        "sorted(mylist)"
      ]
    },
    {
      "cell_type": "code",
      "execution_count": 45,
      "metadata": {
        "colab": {
          "base_uri": "https://localhost:8080/"
        },
        "id": "4LAJdBVGBqqu",
        "outputId": "fecaaf92-8e00-461c-d72b-7c8ad99c566f"
      },
      "outputs": [
        {
          "data": {
            "text/plain": [
              "['cherry', 'banana', 'apple']"
            ]
          },
          "execution_count": 45,
          "metadata": {},
          "output_type": "execute_result"
        }
      ],
      "source": [
        "sorted(mylist, reverse=True)"
      ]
    },
    {
      "cell_type": "code",
      "execution_count": 46,
      "metadata": {
        "colab": {
          "base_uri": "https://localhost:8080/"
        },
        "id": "0auG9cOeBt5I",
        "outputId": "f3228b50-bebf-46a3-f247-211fbd8a1e7d"
      },
      "outputs": [
        {
          "data": {
            "text/plain": [
              "['apple', 'cherry', 'banana', 'strawberry']"
            ]
          },
          "execution_count": 46,
          "metadata": {},
          "output_type": "execute_result"
        }
      ],
      "source": [
        "# add to last\n",
        "mylist.append('strawberry')\n",
        "mylist"
      ]
    },
    {
      "cell_type": "code",
      "execution_count": 47,
      "metadata": {
        "colab": {
          "base_uri": "https://localhost:8080/"
        },
        "id": "HUHhPnoQB_aG",
        "outputId": "ce81a456-6085-442c-f64f-57dbabbd08bc"
      },
      "outputs": [
        {
          "data": {
            "text/plain": [
              "['coconut', 'cherry', 'banana', 'strawberry']"
            ]
          },
          "execution_count": 47,
          "metadata": {},
          "output_type": "execute_result"
        }
      ],
      "source": [
        "mylist[0] = 'coconut'\n",
        "mylist"
      ]
    },
    {
      "cell_type": "code",
      "execution_count": 48,
      "metadata": {
        "colab": {
          "base_uri": "https://localhost:8080/"
        },
        "id": "sogQMVYwcc1i",
        "outputId": "44949dae-6428-4707-855f-aabb245f98d0"
      },
      "outputs": [
        {
          "data": {
            "text/plain": [
              "['cherry', 'banana']"
            ]
          },
          "execution_count": 48,
          "metadata": {},
          "output_type": "execute_result"
        }
      ],
      "source": [
        "mylist[1:3]"
      ]
    },
    {
      "cell_type": "code",
      "execution_count": 49,
      "metadata": {
        "colab": {
          "base_uri": "https://localhost:8080/"
        },
        "id": "vUtX5nGzCDNB",
        "outputId": "03c42369-4781-461c-bf76-fffb79630db5"
      },
      "outputs": [
        {
          "data": {
            "text/plain": [
              "['coconut', 'grape1', 'grape2', 'strawberry']"
            ]
          },
          "execution_count": 49,
          "metadata": {},
          "output_type": "execute_result"
        }
      ],
      "source": [
        "mylist[1:3] = ['grape1', 'grape2']\n",
        "mylist"
      ]
    },
    {
      "cell_type": "code",
      "execution_count": 50,
      "metadata": {
        "colab": {
          "base_uri": "https://localhost:8080/"
        },
        "id": "uNgv1WHGCWYn",
        "outputId": "4db50371-c9ba-463d-f5e9-aaa00bed7e28"
      },
      "outputs": [
        {
          "data": {
            "text/plain": [
              "['coconut', 'grape1', 'watermelon', 'grape2', 'strawberry']"
            ]
          },
          "execution_count": 50,
          "metadata": {},
          "output_type": "execute_result"
        }
      ],
      "source": [
        "# add by index\n",
        "mylist.insert(2, \"watermelon\")\n",
        "mylist"
      ]
    },
    {
      "cell_type": "code",
      "execution_count": 51,
      "metadata": {
        "colab": {
          "base_uri": "https://localhost:8080/"
        },
        "id": "y0rMm_EUCaDc",
        "outputId": "f7289539-daa4-4dfa-b339-ca870392d7b3"
      },
      "outputs": [
        {
          "data": {
            "text/plain": [
              "['coconut', 'grape1', 'watermelon', 'grape2']"
            ]
          },
          "execution_count": 51,
          "metadata": {},
          "output_type": "execute_result"
        }
      ],
      "source": [
        "# remove by value\n",
        "mylist.remove(\"strawberry\")\n",
        "mylist"
      ]
    },
    {
      "cell_type": "code",
      "execution_count": 52,
      "metadata": {
        "colab": {
          "base_uri": "https://localhost:8080/"
        },
        "id": "DcW77y0SCn2P",
        "outputId": "08195a66-b744-4cf2-f8b7-e9bd7e74a4f3"
      },
      "outputs": [
        {
          "data": {
            "text/plain": [
              "['coconut', 'watermelon', 'grape2']"
            ]
          },
          "execution_count": 52,
          "metadata": {},
          "output_type": "execute_result"
        }
      ],
      "source": [
        "# remove by index\n",
        "mylist.pop(1)\n",
        "mylist"
      ]
    },
    {
      "cell_type": "markdown",
      "metadata": {
        "id": "lpckaUBAC5Rd"
      },
      "source": [
        "# Loop"
      ]
    },
    {
      "cell_type": "markdown",
      "metadata": {
        "id": "BfhKch0QC7J2"
      },
      "source": [
        "## For loop"
      ]
    },
    {
      "cell_type": "code",
      "execution_count": 53,
      "metadata": {
        "id": "LqdVGSGUdmKu"
      },
      "outputs": [],
      "source": [
        "# {}\n",
        "# ;\n",
        "# long double float -> float"
      ]
    },
    {
      "cell_type": "code",
      "execution_count": 54,
      "metadata": {
        "colab": {
          "base_uri": "https://localhost:8080/"
        },
        "id": "fbTbfmzwC-M6",
        "outputId": "dcb8e13b-2786-44a9-ab11-f9aba9847be4"
      },
      "outputs": [
        {
          "name": "stdout",
          "output_type": "stream",
          "text": [
            "apple\n",
            "cherry\n",
            "banana\n",
            "1\n"
          ]
        }
      ],
      "source": [
        "mylist = [\"apple\", \"cherry\", \"banana\"]\n",
        "for f in mylist:\n",
        "  print(f)\n",
        "print(\"1\")"
      ]
    },
    {
      "cell_type": "code",
      "execution_count": 55,
      "metadata": {
        "colab": {
          "base_uri": "https://localhost:8080/"
        },
        "id": "K74-tAsbDBCC",
        "outputId": "5f9d9d86-881b-489d-d2bd-b634beb19e4a"
      },
      "outputs": [
        {
          "name": "stdout",
          "output_type": "stream",
          "text": [
            "3\n",
            "4\n",
            "5\n",
            "6\n",
            "7\n",
            "8\n",
            "9\n"
          ]
        }
      ],
      "source": [
        "# mylist = [1,2,3,4,5..]\n",
        "for i in range(3, 10):\n",
        "  print(i)"
      ]
    },
    {
      "cell_type": "markdown",
      "metadata": {
        "id": "Dj2xeXC3DTxB"
      },
      "source": [
        "## While loop"
      ]
    },
    {
      "cell_type": "code",
      "execution_count": 56,
      "metadata": {
        "colab": {
          "base_uri": "https://localhost:8080/"
        },
        "id": "pQggjSKoDWmF",
        "outputId": "5e0d52b8-7212-40c2-bf47-3d00ed99857d"
      },
      "outputs": [
        {
          "name": "stdout",
          "output_type": "stream",
          "text": [
            "0\n",
            "1\n",
            "2\n",
            "3\n",
            "4\n"
          ]
        }
      ],
      "source": [
        "i = 0\n",
        "while i < 5:\n",
        "  print(i)\n",
        "  i = i + 1"
      ]
    },
    {
      "cell_type": "code",
      "execution_count": 57,
      "metadata": {
        "colab": {
          "base_uri": "https://localhost:8080/"
        },
        "id": "lZo8rIb8DjIc",
        "outputId": "5bdacf2b-3e2e-4e77-e527-e51c7cf1798b"
      },
      "outputs": [
        {
          "name": "stdout",
          "output_type": "stream",
          "text": [
            "0\n",
            "1\n",
            "2\n",
            "3\n",
            "4\n"
          ]
        }
      ],
      "source": [
        "i = 0\n",
        "while True:\n",
        "  print(i)\n",
        "  i = i + 1\n",
        "  if i == 5:\n",
        "    break"
      ]
    },
    {
      "cell_type": "markdown",
      "metadata": {
        "id": "RYiPJVt05EHF"
      },
      "source": [
        "# Condition"
      ]
    },
    {
      "cell_type": "code",
      "execution_count": 58,
      "metadata": {
        "colab": {
          "base_uri": "https://localhost:8080/"
        },
        "id": "_zEEsQf54pR4",
        "outputId": "8ab1bdb1-82bb-4ba4-fb50-05f07da5ec2f"
      },
      "outputs": [
        {
          "name": "stdout",
          "output_type": "stream",
          "text": [
            "Five is greater than two!\n"
          ]
        }
      ],
      "source": [
        "if 5 > 2:\n",
        "  print(\"Five is greater than two!\")"
      ]
    },
    {
      "cell_type": "code",
      "execution_count": 59,
      "metadata": {
        "colab": {
          "base_uri": "https://localhost:8080/"
        },
        "id": "NHdH-veQ445P",
        "outputId": "93491365-c1d5-422c-d4ca-1c74e0232ae6"
      },
      "outputs": [
        {
          "name": "stdout",
          "output_type": "stream",
          "text": [
            "a3\n"
          ]
        }
      ],
      "source": [
        "a = 3\n",
        "if a == 2:\n",
        "  print(\"a2\")\n",
        "elif a == 3:\n",
        "  print(\"a3\")"
      ]
    },
    {
      "cell_type": "code",
      "execution_count": 60,
      "metadata": {
        "colab": {
          "base_uri": "https://localhost:8080/"
        },
        "id": "fi2xBy43EDy2",
        "outputId": "f004b5c6-7f76-498b-c14a-fbfec4795625"
      },
      "outputs": [
        {
          "name": "stdout",
          "output_type": "stream",
          "text": [
            "1000\n"
          ]
        }
      ],
      "source": [
        "a = 1000\n",
        "if a == 2:\n",
        "  print(\"a2\")\n",
        "elif a == 3:\n",
        "  print(\"a3\")\n",
        "elif a == 4:\n",
        "  print(\"a4\")\n",
        "else:\n",
        "  print(a)"
      ]
    },
    {
      "cell_type": "code",
      "execution_count": 61,
      "metadata": {
        "id": "9bcYHQzyENyw"
      },
      "outputs": [],
      "source": [
        "# oneline\n",
        "a = 10\n",
        "b = 5 if a < 3 else 10"
      ]
    },
    {
      "cell_type": "code",
      "execution_count": 62,
      "metadata": {
        "id": "IPNselIAfIMF"
      },
      "outputs": [],
      "source": [
        "if a <3:\n",
        "  b = 5\n",
        "else:\n",
        "  b = 10"
      ]
    },
    {
      "cell_type": "markdown",
      "metadata": {
        "id": "ueRYEg6sE53D"
      },
      "source": [
        "# Function"
      ]
    },
    {
      "cell_type": "code",
      "execution_count": 63,
      "metadata": {
        "colab": {
          "base_uri": "https://localhost:8080/"
        },
        "id": "DlQ-1znZE7Qp",
        "outputId": "d602ef30-a544-44a0-dead-f127222e4cc0"
      },
      "outputs": [
        {
          "data": {
            "text/plain": [
              "25"
            ]
          },
          "execution_count": 63,
          "metadata": {},
          "output_type": "execute_result"
        }
      ],
      "source": [
        "def add(a, b):\n",
        "  return a + b\n",
        "\n",
        "c = add(10, 15)\n",
        "c"
      ]
    },
    {
      "cell_type": "code",
      "execution_count": 64,
      "metadata": {
        "colab": {
          "base_uri": "https://localhost:8080/"
        },
        "id": "ieJQOx-Pfj_d",
        "outputId": "4fa2dd39-ff76-4b7a-9fd8-702da6c9fb82"
      },
      "outputs": [
        {
          "data": {
            "text/plain": [
              "10"
            ]
          },
          "execution_count": 64,
          "metadata": {},
          "output_type": "execute_result"
        }
      ],
      "source": [
        "# ถ้า a มากกว่า 5 return a ถ้าไม่ใช่ ให้ return a+b\n",
        "def add(a, b):\n",
        "  if a > 5:\n",
        "    return a\n",
        "  else:\n",
        "    return a + b\n",
        "\n",
        "c = add(10, 15)\n",
        "c"
      ]
    },
    {
      "cell_type": "markdown",
      "metadata": {
        "id": "1ypxHj05FQxr"
      },
      "source": [
        "# Class and Object"
      ]
    },
    {
      "cell_type": "code",
      "execution_count": 65,
      "metadata": {
        "id": "QEPQotggge5T"
      },
      "outputs": [],
      "source": [
        "# tkinter"
      ]
    },
    {
      "cell_type": "code",
      "execution_count": 66,
      "metadata": {
        "colab": {
          "base_uri": "https://localhost:8080/"
        },
        "id": "HUo_wjfkFTsa",
        "outputId": "98666fea-0ee2-4494-8878-21de5a39e7a9"
      },
      "outputs": [
        {
          "name": "stdout",
          "output_type": "stream",
          "text": [
            "John\n",
            "36\n",
            "41\n"
          ]
        }
      ],
      "source": [
        "class Person:\n",
        "  def __init__(self, name, age):\n",
        "    self.name = name\n",
        "    self.age = age\n",
        "\n",
        "  def get_age_next_5y(self):\n",
        "    return self.age + 5\n",
        "\n",
        "p1 = Person(\"John\", 36)\n",
        "\n",
        "print(p1.name)\n",
        "print(p1.age)\n",
        "print(p1.get_age_next_5y())"
      ]
    },
    {
      "cell_type": "markdown",
      "metadata": {
        "id": "9hltyzZ8Fr0V"
      },
      "source": [
        "# File handling"
      ]
    },
    {
      "cell_type": "code",
      "execution_count": 67,
      "metadata": {
        "colab": {
          "base_uri": "https://localhost:8080/"
        },
        "id": "JMwoQ4M5FTyu",
        "outputId": "82fff8ec-db03-422a-82d1-54c94955d117"
      },
      "outputs": [
        {
          "name": "stdout",
          "output_type": "stream",
          "text": [
            "a\n",
            "b\n"
          ]
        }
      ],
      "source": [
        "text = \"my first sentence 555\"\n",
        "with open(\"./myfile5.txt\", 'w') as f: # 'a'\n",
        "  f.write(text)\n",
        "  print(\"a\")\n",
        "print(\"b\")"
      ]
    },
    {
      "cell_type": "code",
      "execution_count": 68,
      "metadata": {
        "colab": {
          "base_uri": "https://localhost:8080/",
          "height": 36
        },
        "id": "hajAyYWgF6RA",
        "outputId": "4321f603-e1f0-422e-b651-d5610637979a"
      },
      "outputs": [
        {
          "data": {
            "text/plain": [
              "'my first sentence 555'"
            ]
          },
          "execution_count": 68,
          "metadata": {},
          "output_type": "execute_result"
        }
      ],
      "source": [
        "with open(\"./myfile5.txt\", 'r') as f:\n",
        "  x = f.read()\n",
        "x"
      ]
    },
    {
      "cell_type": "markdown",
      "metadata": {
        "id": "99C9MFlLHfPb"
      },
      "source": [
        "# Pandas"
      ]
    },
    {
      "cell_type": "code",
      "execution_count": 69,
      "metadata": {
        "colab": {
          "base_uri": "https://localhost:8080/",
          "height": 112
        },
        "id": "H0liTnI8Hgpb",
        "outputId": "136a333a-f740-4731-fe91-35a744d1c301"
      },
      "outputs": [
        {
          "data": {
            "text/html": [
              "<div>\n",
              "<style scoped>\n",
              "    .dataframe tbody tr th:only-of-type {\n",
              "        vertical-align: middle;\n",
              "    }\n",
              "\n",
              "    .dataframe tbody tr th {\n",
              "        vertical-align: top;\n",
              "    }\n",
              "\n",
              "    .dataframe thead th {\n",
              "        text-align: right;\n",
              "    }\n",
              "</style>\n",
              "<table border=\"1\" class=\"dataframe\">\n",
              "  <thead>\n",
              "    <tr style=\"text-align: right;\">\n",
              "      <th></th>\n",
              "      <th>col1</th>\n",
              "      <th>col2</th>\n",
              "      <th>col3</th>\n",
              "    </tr>\n",
              "  </thead>\n",
              "  <tbody>\n",
              "    <tr>\n",
              "      <th>0</th>\n",
              "      <td>1</td>\n",
              "      <td>2</td>\n",
              "      <td>3</td>\n",
              "    </tr>\n",
              "    <tr>\n",
              "      <th>1</th>\n",
              "      <td>4</td>\n",
              "      <td>5</td>\n",
              "      <td>6</td>\n",
              "    </tr>\n",
              "  </tbody>\n",
              "</table>\n",
              "</div>"
            ],
            "text/plain": [
              "   col1  col2  col3\n",
              "0     1     2     3\n",
              "1     4     5     6"
            ]
          },
          "execution_count": 69,
          "metadata": {},
          "output_type": "execute_result"
        }
      ],
      "source": [
        "import pandas as pd\n",
        "cols = ['col1', 'col2', 'col3']\n",
        "data = [[1, 2, 3], [4, 5, 6]]\n",
        "df = pd.DataFrame(data=data, columns=cols)\n",
        "df"
      ]
    },
    {
      "cell_type": "code",
      "execution_count": 70,
      "metadata": {
        "id": "8-rStG2VjV-j"
      },
      "outputs": [],
      "source": [
        "# df.to_csv()"
      ]
    },
    {
      "cell_type": "code",
      "execution_count": null,
      "metadata": {
        "id": "z5QTcyzhjki4"
      },
      "outputs": [],
      "source": []
    },
    {
      "cell_type": "code",
      "execution_count": 71,
      "metadata": {
        "colab": {
          "base_uri": "https://localhost:8080/",
          "height": 80
        },
        "id": "h0Ggg2jlirmY",
        "outputId": "f9eb1dd6-4d30-4a96-c1f8-74ee4450cce5"
      },
      "outputs": [
        {
          "data": {
            "text/html": [
              "<div>\n",
              "<style scoped>\n",
              "    .dataframe tbody tr th:only-of-type {\n",
              "        vertical-align: middle;\n",
              "    }\n",
              "\n",
              "    .dataframe tbody tr th {\n",
              "        vertical-align: top;\n",
              "    }\n",
              "\n",
              "    .dataframe thead th {\n",
              "        text-align: right;\n",
              "    }\n",
              "</style>\n",
              "<table border=\"1\" class=\"dataframe\">\n",
              "  <thead>\n",
              "    <tr style=\"text-align: right;\">\n",
              "      <th></th>\n",
              "      <th>col1</th>\n",
              "      <th>col2</th>\n",
              "      <th>col3</th>\n",
              "    </tr>\n",
              "  </thead>\n",
              "  <tbody>\n",
              "    <tr>\n",
              "      <th>1</th>\n",
              "      <td>4</td>\n",
              "      <td>5</td>\n",
              "      <td>6</td>\n",
              "    </tr>\n",
              "  </tbody>\n",
              "</table>\n",
              "</div>"
            ],
            "text/plain": [
              "   col1  col2  col3\n",
              "1     4     5     6"
            ]
          },
          "execution_count": 71,
          "metadata": {},
          "output_type": "execute_result"
        }
      ],
      "source": [
        "df[df['col1'] > 1]"
      ]
    },
    {
      "cell_type": "code",
      "execution_count": 72,
      "metadata": {
        "colab": {
          "base_uri": "https://localhost:8080/"
        },
        "id": "NUzl4YoBioPM",
        "outputId": "d3292d93-100c-4169-9ec9-c0243818f0b2"
      },
      "outputs": [
        {
          "data": {
            "text/plain": [
              "[[1, 2, 3], [4, 5, 6]]"
            ]
          },
          "execution_count": 72,
          "metadata": {},
          "output_type": "execute_result"
        }
      ],
      "source": [
        "data"
      ]
    },
    {
      "cell_type": "code",
      "execution_count": 73,
      "metadata": {
        "colab": {
          "base_uri": "https://localhost:8080/",
          "height": 423
        },
        "id": "iAYnL4JGHoxv",
        "outputId": "5bccfe9d-d790-4ad3-d776-9e5d51aff74c"
      },
      "outputs": [
        {
          "data": {
            "text/html": [
              "<div>\n",
              "<style scoped>\n",
              "    .dataframe tbody tr th:only-of-type {\n",
              "        vertical-align: middle;\n",
              "    }\n",
              "\n",
              "    .dataframe tbody tr th {\n",
              "        vertical-align: top;\n",
              "    }\n",
              "\n",
              "    .dataframe thead th {\n",
              "        text-align: right;\n",
              "    }\n",
              "</style>\n",
              "<table border=\"1\" class=\"dataframe\">\n",
              "  <thead>\n",
              "    <tr style=\"text-align: right;\">\n",
              "      <th></th>\n",
              "      <th>Home</th>\n",
              "      <th>Price</th>\n",
              "      <th>SqFt</th>\n",
              "      <th>Bedrooms</th>\n",
              "      <th>Bathrooms</th>\n",
              "      <th>Offers</th>\n",
              "      <th>Brick</th>\n",
              "      <th>Neighborhood</th>\n",
              "    </tr>\n",
              "  </thead>\n",
              "  <tbody>\n",
              "    <tr>\n",
              "      <th>0</th>\n",
              "      <td>1</td>\n",
              "      <td>114300</td>\n",
              "      <td>1790</td>\n",
              "      <td>2</td>\n",
              "      <td>2</td>\n",
              "      <td>2</td>\n",
              "      <td>No</td>\n",
              "      <td>East</td>\n",
              "    </tr>\n",
              "    <tr>\n",
              "      <th>1</th>\n",
              "      <td>2</td>\n",
              "      <td>114200</td>\n",
              "      <td>2030</td>\n",
              "      <td>4</td>\n",
              "      <td>2</td>\n",
              "      <td>3</td>\n",
              "      <td>No</td>\n",
              "      <td>East</td>\n",
              "    </tr>\n",
              "    <tr>\n",
              "      <th>2</th>\n",
              "      <td>3</td>\n",
              "      <td>114800</td>\n",
              "      <td>1740</td>\n",
              "      <td>3</td>\n",
              "      <td>2</td>\n",
              "      <td>1</td>\n",
              "      <td>No</td>\n",
              "      <td>East</td>\n",
              "    </tr>\n",
              "    <tr>\n",
              "      <th>3</th>\n",
              "      <td>4</td>\n",
              "      <td>94700</td>\n",
              "      <td>1980</td>\n",
              "      <td>3</td>\n",
              "      <td>2</td>\n",
              "      <td>3</td>\n",
              "      <td>No</td>\n",
              "      <td>East</td>\n",
              "    </tr>\n",
              "    <tr>\n",
              "      <th>4</th>\n",
              "      <td>5</td>\n",
              "      <td>119800</td>\n",
              "      <td>2130</td>\n",
              "      <td>3</td>\n",
              "      <td>3</td>\n",
              "      <td>3</td>\n",
              "      <td>No</td>\n",
              "      <td>East</td>\n",
              "    </tr>\n",
              "    <tr>\n",
              "      <th>...</th>\n",
              "      <td>...</td>\n",
              "      <td>...</td>\n",
              "      <td>...</td>\n",
              "      <td>...</td>\n",
              "      <td>...</td>\n",
              "      <td>...</td>\n",
              "      <td>...</td>\n",
              "      <td>...</td>\n",
              "    </tr>\n",
              "    <tr>\n",
              "      <th>123</th>\n",
              "      <td>124</td>\n",
              "      <td>119700</td>\n",
              "      <td>1900</td>\n",
              "      <td>3</td>\n",
              "      <td>3</td>\n",
              "      <td>3</td>\n",
              "      <td>Yes</td>\n",
              "      <td>East</td>\n",
              "    </tr>\n",
              "    <tr>\n",
              "      <th>124</th>\n",
              "      <td>125</td>\n",
              "      <td>147900</td>\n",
              "      <td>2160</td>\n",
              "      <td>4</td>\n",
              "      <td>3</td>\n",
              "      <td>3</td>\n",
              "      <td>Yes</td>\n",
              "      <td>East</td>\n",
              "    </tr>\n",
              "    <tr>\n",
              "      <th>125</th>\n",
              "      <td>126</td>\n",
              "      <td>113500</td>\n",
              "      <td>2070</td>\n",
              "      <td>2</td>\n",
              "      <td>2</td>\n",
              "      <td>2</td>\n",
              "      <td>No</td>\n",
              "      <td>North</td>\n",
              "    </tr>\n",
              "    <tr>\n",
              "      <th>126</th>\n",
              "      <td>127</td>\n",
              "      <td>149900</td>\n",
              "      <td>2020</td>\n",
              "      <td>3</td>\n",
              "      <td>3</td>\n",
              "      <td>1</td>\n",
              "      <td>No</td>\n",
              "      <td>West</td>\n",
              "    </tr>\n",
              "    <tr>\n",
              "      <th>127</th>\n",
              "      <td>128</td>\n",
              "      <td>124600</td>\n",
              "      <td>2250</td>\n",
              "      <td>3</td>\n",
              "      <td>3</td>\n",
              "      <td>4</td>\n",
              "      <td>No</td>\n",
              "      <td>North</td>\n",
              "    </tr>\n",
              "  </tbody>\n",
              "</table>\n",
              "<p>128 rows × 8 columns</p>\n",
              "</div>"
            ],
            "text/plain": [
              "     Home   Price  SqFt  Bedrooms  Bathrooms  Offers Brick Neighborhood\n",
              "0       1  114300  1790         2          2       2    No         East\n",
              "1       2  114200  2030         4          2       3    No         East\n",
              "2       3  114800  1740         3          2       1    No         East\n",
              "3       4   94700  1980         3          2       3    No         East\n",
              "4       5  119800  2130         3          3       3    No         East\n",
              "..    ...     ...   ...       ...        ...     ...   ...          ...\n",
              "123   124  119700  1900         3          3       3   Yes         East\n",
              "124   125  147900  2160         4          3       3   Yes         East\n",
              "125   126  113500  2070         2          2       2    No        North\n",
              "126   127  149900  2020         3          3       1    No         West\n",
              "127   128  124600  2250         3          3       4    No        North\n",
              "\n",
              "[128 rows x 8 columns]"
            ]
          },
          "execution_count": 73,
          "metadata": {},
          "output_type": "execute_result"
        }
      ],
      "source": [
        "url = \"https://raw.githubusercontent.com/ywchiu/riii/master/data/house-prices.csv\"\n",
        "df = pd.read_csv(url)\n",
        "df"
      ]
    },
    {
      "cell_type": "markdown",
      "metadata": {
        "id": "rjfWC_jGRMgc"
      },
      "source": [
        "# API Call"
      ]
    },
    {
      "cell_type": "markdown",
      "metadata": {
        "id": "EflNTFbbehNL"
      },
      "source": [
        "- get\n",
        "- post"
      ]
    },
    {
      "cell_type": "code",
      "execution_count": 76,
      "metadata": {
        "id": "1ullyaZrRNVg"
      },
      "outputs": [],
      "source": [
        "import requests\n",
        "import pandas as pd"
      ]
    },
    {
      "cell_type": "code",
      "execution_count": 79,
      "metadata": {
        "id": "k9LqgcJXRPaq"
      },
      "outputs": [
        {
          "name": "stderr",
          "output_type": "stream",
          "text": [
            "c:\\Users\\Wuttick\\anaconda3\\envs\\stapp\\Lib\\site-packages\\urllib3\\connectionpool.py:1100: InsecureRequestWarning: Unverified HTTPS request is being made to host 'covid19.ddc.moph.go.th'. Adding certificate verification is strongly advised. See: https://urllib3.readthedocs.io/en/latest/advanced-usage.html#tls-warnings\n",
            "  warnings.warn(\n"
          ]
        }
      ],
      "source": [
        "# https://covid19.ddc.moph.go.th/\n",
        "url = \"https://covid19.ddc.moph.go.th/api/Cases/report-round-3-y21-line-lists\"\n",
        "res = requests.get(url, verify=False)"
      ]
    },
    {
      "cell_type": "code",
      "execution_count": 80,
      "metadata": {
        "colab": {
          "base_uri": "https://localhost:8080/"
        },
        "id": "5zk5eYyKRWnF",
        "outputId": "1f62d59b-3361-4b0a-9b9e-4082f00dda6b"
      },
      "outputs": [
        {
          "data": {
            "text/plain": [
              "200"
            ]
          },
          "execution_count": 80,
          "metadata": {},
          "output_type": "execute_result"
        }
      ],
      "source": [
        "res.status_code"
      ]
    },
    {
      "cell_type": "code",
      "execution_count": 81,
      "metadata": {
        "colab": {
          "base_uri": "https://localhost:8080/"
        },
        "id": "MClJ64NLQrGn",
        "outputId": "03fac316-4da1-49f6-d97b-57473b27dff1"
      },
      "outputs": [
        {
          "data": {
            "text/plain": [
              "{'Content-Type': 'application/json', 'Transfer-Encoding': 'chunked', 'Connection': 'keep-alive', 'Date': 'Wed, 08 Nov 2023 19:23:18 GMT', 'Cache-Control': 'no-cache, private', 'Access-Control-Allow-Origin': '*', 'X-Kong-Upstream-Latency': '24', 'X-Kong-Proxy-Latency': '0', 'Strict-Transport-Security': 'max-age=63072000; includeSubDomains; preload', 'X-Frame-Options': 'DENY', 'X-Content-Type-Options': 'nosniff', 'Via': 'kong/3.3.0'}"
            ]
          },
          "execution_count": 81,
          "metadata": {},
          "output_type": "execute_result"
        }
      ],
      "source": [
        "res.headers"
      ]
    },
    {
      "cell_type": "code",
      "execution_count": 82,
      "metadata": {
        "colab": {
          "base_uri": "https://localhost:8080/"
        },
        "id": "HOcpKZihRm5U",
        "outputId": "792fb8be-b4b4-420f-de3e-d4d2ca394149"
      },
      "outputs": [
        {
          "data": {
            "text/plain": [
              "{'data': [{'year': 2021,\n",
              "   'weeknum': 13,\n",
              "   'new_case': 168,\n",
              "   'total_case': 29031,\n",
              "   'new_case_excludeabroad': 135,\n",
              "   'total_case_excludeabroad': 25901,\n",
              "   'new_recovered': 242,\n",
              "   'total_recovered': 27668,\n",
              "   'new_death': 1,\n",
              "   'total_death': 95,\n",
              "   'case_foreign': 33,\n",
              "   'case_prison': 0,\n",
              "   'case_walkin': 113,\n",
              "   'case_new_prev': 126,\n",
              "   'case_new_diff': 42,\n",
              "   'death_new_prev': 0,\n",
              "   'death_new_diff': 1,\n",
              "   'update_date': '2023-11-05 18:50:43'},\n",
              "  {'year': 2021,\n",
              "   'weeknum': 14,\n",
              "   'new_case': 2627,\n",
              "   'total_case': 31658,\n",
              "   'new_case_excludeabroad': 2562,\n",
              "   'total_case_excludeabroad': 28463,\n",
              "   'new_recovered': 493,\n",
              "   'total_recovered': 28161,\n",
              "   'new_death': 2,\n",
              "   'total_death': 97,\n",
              "   'case_foreign': 65,\n",
              "   'case_prison': 0,\n",
              "   'case_walkin': 1549,\n",
              "   'case_new_prev': 1922,\n",
              "   'case_new_diff': 705,\n",
              "   'death_new_prev': 2,\n",
              "   'death_new_diff': 0,\n",
              "   'update_date': '2023-11-05 18:50:43'},\n",
              "  {'year': 2021,\n",
              "   'weeknum': 15,\n",
              "   'new_case': 8927,\n",
              "   'total_case': 40585,\n",
              "   'new_case_excludeabroad': 8890,\n",
              "   'total_case_excludeabroad': 37353,\n",
              "   'new_recovered': 409,\n",
              "   'total_recovered': 28570,\n",
              "   'new_death': 3,\n",
              "   'total_death': 100,\n",
              "   'case_foreign': 37,\n",
              "   'case_prison': 0,\n",
              "   'case_walkin': 6175,\n",
              "   'case_new_prev': 8169,\n",
              "   'case_new_diff': 758,\n",
              "   'death_new_prev': 4,\n",
              "   'death_new_diff': -1,\n",
              "   'update_date': '2023-11-05 18:50:43'},\n",
              "  {'year': 2021,\n",
              "   'weeknum': 16,\n",
              "   'new_case': 12437,\n",
              "   'total_case': 53022,\n",
              "   'new_case_excludeabroad': 12405,\n",
              "   'total_case_excludeabroad': 49758,\n",
              "   'new_recovered': 1996,\n",
              "   'total_recovered': 30566,\n",
              "   'new_death': 29,\n",
              "   'total_death': 129,\n",
              "   'case_foreign': 32,\n",
              "   'case_prison': 0,\n",
              "   'case_walkin': 11027,\n",
              "   'case_new_prev': 11145,\n",
              "   'case_new_diff': 1292,\n",
              "   'death_new_prev': 21,\n",
              "   'death_new_diff': 8,\n",
              "   'update_date': '2023-11-05 18:50:43'},\n",
              "  {'year': 2021,\n",
              "   'weeknum': 17,\n",
              "   'new_case': 14022,\n",
              "   'total_case': 67044,\n",
              "   'new_case_excludeabroad': 13972,\n",
              "   'total_case_excludeabroad': 63730,\n",
              "   'new_recovered': 7509,\n",
              "   'total_recovered': 38075,\n",
              "   'new_death': 95,\n",
              "   'total_death': 224,\n",
              "   'case_foreign': 50,\n",
              "   'case_prison': 0,\n",
              "   'case_walkin': 13179,\n",
              "   'case_new_prev': 14970,\n",
              "   'case_new_diff': -948,\n",
              "   'death_new_prev': 82,\n",
              "   'death_new_diff': 13,\n",
              "   'update_date': '2023-11-05 18:50:43'},\n",
              "  {'year': 2021,\n",
              "   'weeknum': 18,\n",
              "   'new_case': 14230,\n",
              "   'total_case': 81274,\n",
              "   'new_case_excludeabroad': 14178,\n",
              "   'total_case_excludeabroad': 77908,\n",
              "   'new_recovered': 13344,\n",
              "   'total_recovered': 51419,\n",
              "   'new_death': 158,\n",
              "   'total_death': 382,\n",
              "   'case_foreign': 52,\n",
              "   'case_prison': 1,\n",
              "   'case_walkin': 12665,\n",
              "   'case_new_prev': 13702,\n",
              "   'case_new_diff': 528,\n",
              "   'death_new_prev': 160,\n",
              "   'death_new_diff': -2,\n",
              "   'update_date': '2023-11-05 18:50:43'},\n",
              "  {'year': 2021,\n",
              "   'weeknum': 19,\n",
              "   'new_case': 17871,\n",
              "   'total_case': 99145,\n",
              "   'new_case_excludeabroad': 17798,\n",
              "   'total_case_excludeabroad': 95706,\n",
              "   'new_recovered': 12248,\n",
              "   'total_recovered': 63667,\n",
              "   'new_death': 183,\n",
              "   'total_death': 565,\n",
              "   'case_foreign': 73,\n",
              "   'case_prison': 3896,\n",
              "   'case_walkin': 10007,\n",
              "   'case_new_prev': 17195,\n",
              "   'case_new_diff': 676,\n",
              "   'death_new_prev': 185,\n",
              "   'death_new_diff': -2,\n",
              "   'update_date': '2023-11-05 18:50:43'},\n",
              "  {'year': 2021,\n",
              "   'weeknum': 20,\n",
              "   'new_case': 26973,\n",
              "   'total_case': 126118,\n",
              "   'new_case_excludeabroad': 26790,\n",
              "   'total_case_excludeabroad': 122496,\n",
              "   'new_recovered': 18737,\n",
              "   'total_recovered': 82404,\n",
              "   'new_death': 194,\n",
              "   'total_death': 759,\n",
              "   'case_foreign': 183,\n",
              "   'case_prison': 11260,\n",
              "   'case_walkin': 11515,\n",
              "   'case_new_prev': 27016,\n",
              "   'case_new_diff': -43,\n",
              "   'death_new_prev': 187,\n",
              "   'death_new_diff': 7,\n",
              "   'update_date': '2023-11-05 18:50:43'},\n",
              "  {'year': 2021,\n",
              "   'weeknum': 21,\n",
              "   'new_case': 23661,\n",
              "   'total_case': 149779,\n",
              "   'new_case_excludeabroad': 23482,\n",
              "   'total_case_excludeabroad': 145978,\n",
              "   'new_recovered': 19907,\n",
              "   'total_recovered': 102311,\n",
              "   'new_death': 229,\n",
              "   'total_death': 988,\n",
              "   'case_foreign': 179,\n",
              "   'case_prison': 7242,\n",
              "   'case_walkin': 8753,\n",
              "   'case_new_prev': 21910,\n",
              "   'case_new_diff': 1751,\n",
              "   'death_new_prev': 219,\n",
              "   'death_new_diff': 10,\n",
              "   'update_date': '2023-11-05 18:50:43'},\n",
              "  {'year': 2021,\n",
              "   'weeknum': 22,\n",
              "   'new_case': 25017,\n",
              "   'total_case': 174796,\n",
              "   'new_case_excludeabroad': 24741,\n",
              "   'total_case_excludeabroad': 170719,\n",
              "   'new_recovered': 21782,\n",
              "   'total_recovered': 124093,\n",
              "   'new_death': 225,\n",
              "   'total_death': 1213,\n",
              "   'case_foreign': 276,\n",
              "   'case_prison': 6753,\n",
              "   'case_walkin': 9067,\n",
              "   'case_new_prev': 27003,\n",
              "   'case_new_diff': -1986,\n",
              "   'death_new_prev': 223,\n",
              "   'death_new_diff': 2,\n",
              "   'update_date': '2023-11-05 18:50:43'},\n",
              "  {'year': 2021,\n",
              "   'weeknum': 23,\n",
              "   'new_case': 18309,\n",
              "   'total_case': 193105,\n",
              "   'new_case_excludeabroad': 18070,\n",
              "   'total_case_excludeabroad': 188789,\n",
              "   'new_recovered': 26178,\n",
              "   'total_recovered': 150271,\n",
              "   'new_death': 218,\n",
              "   'total_death': 1431,\n",
              "   'case_foreign': 239,\n",
              "   'case_prison': 2797,\n",
              "   'case_walkin': 9974,\n",
              "   'case_new_prev': 17849,\n",
              "   'case_new_diff': 460,\n",
              "   'death_new_prev': 225,\n",
              "   'death_new_diff': -7,\n",
              "   'update_date': '2023-11-05 18:50:43'},\n",
              "  {'year': 2021,\n",
              "   'weeknum': 24,\n",
              "   'new_case': 21344,\n",
              "   'total_case': 214449,\n",
              "   'new_case_excludeabroad': 21165,\n",
              "   'total_case_excludeabroad': 209954,\n",
              "   'new_recovered': 31087,\n",
              "   'total_recovered': 181358,\n",
              "   'new_death': 178,\n",
              "   'total_death': 1609,\n",
              "   'case_foreign': 179,\n",
              "   'case_prison': 3210,\n",
              "   'case_walkin': 13056,\n",
              "   'case_new_prev': 20954,\n",
              "   'case_new_diff': 390,\n",
              "   'death_new_prev': 175,\n",
              "   'death_new_diff': 3,\n",
              "   'update_date': '2023-11-05 18:50:43'},\n",
              "  {'year': 2021,\n",
              "   'weeknum': 25,\n",
              "   'new_case': 26002,\n",
              "   'total_case': 240451,\n",
              "   'new_case_excludeabroad': 25806,\n",
              "   'total_case_excludeabroad': 235760,\n",
              "   'new_recovered': 15317,\n",
              "   'total_recovered': 196675,\n",
              "   'new_death': 261,\n",
              "   'total_death': 1870,\n",
              "   'case_foreign': 196,\n",
              "   'case_prison': 1292,\n",
              "   'case_walkin': 17280,\n",
              "   'case_new_prev': 25509,\n",
              "   'case_new_diff': 493,\n",
              "   'death_new_prev': 242,\n",
              "   'death_new_diff': 19,\n",
              "   'update_date': '2023-11-05 18:50:43'},\n",
              "  {'year': 2021,\n",
              "   'weeknum': 26,\n",
              "   'new_case': 36700,\n",
              "   'total_case': 277151,\n",
              "   'new_case_excludeabroad': 36583,\n",
              "   'total_case_excludeabroad': 272343,\n",
              "   'new_recovered': 20824,\n",
              "   'total_recovered': 217499,\n",
              "   'new_death': 312,\n",
              "   'total_death': 2182,\n",
              "   'case_foreign': 117,\n",
              "   'case_prison': 736,\n",
              "   'case_walkin': 25413,\n",
              "   'case_new_prev': 34630,\n",
              "   'case_new_diff': 2070,\n",
              "   'death_new_prev': 322,\n",
              "   'death_new_diff': -10,\n",
              "   'update_date': '2023-11-05 18:50:43'},\n",
              "  {'year': 2021,\n",
              "   'weeknum': 27,\n",
              "   'new_case': 49681,\n",
              "   'total_case': 326832,\n",
              "   'new_case_excludeabroad': 49588,\n",
              "   'total_case_excludeabroad': 321931,\n",
              "   'new_recovered': 26419,\n",
              "   'total_recovered': 243918,\n",
              "   'new_death': 443,\n",
              "   'total_death': 2625,\n",
              "   'case_foreign': 93,\n",
              "   'case_prison': 753,\n",
              "   'case_walkin': 35207,\n",
              "   'case_new_prev': 46585,\n",
              "   'case_new_diff': 3096,\n",
              "   'death_new_prev': 393,\n",
              "   'death_new_diff': 50,\n",
              "   'update_date': '2023-11-05 18:50:43'},\n",
              "  {'year': 2021,\n",
              "   'weeknum': 28,\n",
              "   'new_case': 65157,\n",
              "   'total_case': 391989,\n",
              "   'new_case_excludeabroad': 65016,\n",
              "   'total_case_excludeabroad': 386947,\n",
              "   'new_recovered': 34266,\n",
              "   'total_recovered': 278184,\n",
              "   'new_death': 615,\n",
              "   'total_death': 3240,\n",
              "   'case_foreign': 141,\n",
              "   'case_prison': 1272,\n",
              "   'case_walkin': 47998,\n",
              "   'case_new_prev': 64401,\n",
              "   'case_new_diff': 756,\n",
              "   'death_new_prev': 565,\n",
              "   'death_new_diff': 50,\n",
              "   'update_date': '2023-11-05 18:50:43'},\n",
              "  {'year': 2021,\n",
              "   'weeknum': 29,\n",
              "   'new_case': 89978,\n",
              "   'total_case': 481967,\n",
              "   'new_case_excludeabroad': 89878,\n",
              "   'total_case_excludeabroad': 476825,\n",
              "   'new_recovered': 49605,\n",
              "   'total_recovered': 327789,\n",
              "   'new_death': 690,\n",
              "   'total_death': 3930,\n",
              "   'case_foreign': 100,\n",
              "   'case_prison': 4334,\n",
              "   'case_walkin': 64132,\n",
              "   'case_new_prev': 85800,\n",
              "   'case_new_diff': 4178,\n",
              "   'death_new_prev': 712,\n",
              "   'death_new_diff': -22,\n",
              "   'update_date': '2023-11-05 18:50:43'},\n",
              "  {'year': 2021,\n",
              "   'weeknum': 30,\n",
              "   'new_case': 115320,\n",
              "   'total_case': 597287,\n",
              "   'new_case_excludeabroad': 115203,\n",
              "   'total_case_excludeabroad': 592028,\n",
              "   'new_recovered': 64131,\n",
              "   'total_recovered': 391920,\n",
              "   'new_death': 927,\n",
              "   'total_death': 4857,\n",
              "   'case_foreign': 117,\n",
              "   'case_prison': 3881,\n",
              "   'case_walkin': 87624,\n",
              "   'case_new_prev': 110668,\n",
              "   'case_new_diff': 4652,\n",
              "   'death_new_prev': 868,\n",
              "   'death_new_diff': 59,\n",
              "   'update_date': '2023-11-05 18:50:43'},\n",
              "  {'year': 2021,\n",
              "   'weeknum': 31,\n",
              "   'new_case': 139235,\n",
              "   'total_case': 736522,\n",
              "   'new_case_excludeabroad': 139172,\n",
              "   'total_case_excludeabroad': 731200,\n",
              "   'new_recovered': 125092,\n",
              "   'total_recovered': 517012,\n",
              "   'new_death': 1209,\n",
              "   'total_death': 6066,\n",
              "   'case_foreign': 63,\n",
              "   'case_prison': 3148,\n",
              "   'case_walkin': 111450,\n",
              "   'case_new_prev': 136309,\n",
              "   'case_new_diff': 2926,\n",
              "   'death_new_prev': 1175,\n",
              "   'death_new_diff': 34,\n",
              "   'update_date': '2023-11-05 18:50:43'},\n",
              "  {'year': 2021,\n",
              "   'weeknum': 32,\n",
              "   'new_case': 148753,\n",
              "   'total_case': 885275,\n",
              "   'new_case_excludeabroad': 148675,\n",
              "   'total_case_excludeabroad': 879875,\n",
              "   'new_recovered': 150544,\n",
              "   'total_recovered': 667556,\n",
              "   'new_death': 1277,\n",
              "   'total_death': 7343,\n",
              "   'case_foreign': 78,\n",
              "   'case_prison': 2267,\n",
              "   'case_walkin': 119216,\n",
              "   'case_new_prev': 148505,\n",
              "   'case_new_diff': 248,\n",
              "   'death_new_prev': 1272,\n",
              "   'death_new_diff': 5,\n",
              "   'update_date': '2023-11-05 18:50:43'},\n",
              "  {'year': 2021,\n",
              "   'weeknum': 33,\n",
              "   'new_case': 145006,\n",
              "   'total_case': 1030281,\n",
              "   'new_case_excludeabroad': 144919,\n",
              "   'total_case_excludeabroad': 1024794,\n",
              "   'new_recovered': 151408,\n",
              "   'total_recovered': 818964,\n",
              "   'new_death': 1744,\n",
              "   'total_death': 9087,\n",
              "   'case_foreign': 87,\n",
              "   'case_prison': 2131,\n",
              "   'case_walkin': 118815,\n",
              "   'case_new_prev': 146521,\n",
              "   'case_new_diff': -1515,\n",
              "   'death_new_prev': 1700,\n",
              "   'death_new_diff': 44,\n",
              "   'update_date': '2023-11-05 18:50:43'},\n",
              "  {'year': 2021,\n",
              "   'weeknum': 34,\n",
              "   'new_case': 127274,\n",
              "   'total_case': 1157555,\n",
              "   'new_case_excludeabroad': 127216,\n",
              "   'total_case_excludeabroad': 1152010,\n",
              "   'new_recovered': 145355,\n",
              "   'total_recovered': 964319,\n",
              "   'new_death': 1792,\n",
              "   'total_death': 10879,\n",
              "   'case_foreign': 58,\n",
              "   'case_prison': 1737,\n",
              "   'case_walkin': 110796,\n",
              "   'case_new_prev': 129861,\n",
              "   'case_new_diff': -2587,\n",
              "   'death_new_prev': 1761,\n",
              "   'death_new_diff': 31,\n",
              "   'update_date': '2023-11-05 18:50:43'},\n",
              "  {'year': 2021,\n",
              "   'weeknum': 35,\n",
              "   'new_case': 107527,\n",
              "   'total_case': 1265082,\n",
              "   'new_case_excludeabroad': 107471,\n",
              "   'total_case_excludeabroad': 1259481,\n",
              "   'new_recovered': 132998,\n",
              "   'total_recovered': 1097317,\n",
              "   'new_death': 1752,\n",
              "   'total_death': 12631,\n",
              "   'case_foreign': 56,\n",
              "   'case_prison': 2018,\n",
              "   'case_walkin': 92336,\n",
              "   'case_new_prev': 109569,\n",
              "   'case_new_diff': -2042,\n",
              "   'death_new_prev': 1787,\n",
              "   'death_new_diff': -35,\n",
              "   'update_date': '2023-11-05 18:50:43'},\n",
              "  {'year': 2021,\n",
              "   'weeknum': 36,\n",
              "   'new_case': 103062,\n",
              "   'total_case': 1368144,\n",
              "   'new_case_excludeabroad': 102963,\n",
              "   'total_case_excludeabroad': 1362444,\n",
              "   'new_recovered': 118795,\n",
              "   'total_recovered': 1216112,\n",
              "   'new_death': 1542,\n",
              "   'total_death': 14173,\n",
              "   'case_foreign': 99,\n",
              "   'case_prison': 3634,\n",
              "   'case_walkin': 86617,\n",
              "   'case_new_prev': 103813,\n",
              "   'case_new_diff': -751,\n",
              "   'death_new_prev': 1546,\n",
              "   'death_new_diff': -4,\n",
              "   'update_date': '2023-11-05 18:50:43'},\n",
              "  {'year': 2021,\n",
              "   'weeknum': 37,\n",
              "   'new_case': 94757,\n",
              "   'total_case': 1462901,\n",
              "   'new_case_excludeabroad': 94691,\n",
              "   'total_case_excludeabroad': 1457135,\n",
              "   'new_recovered': 101415,\n",
              "   'total_recovered': 1317527,\n",
              "   'new_death': 1073,\n",
              "   'total_death': 15246,\n",
              "   'case_foreign': 66,\n",
              "   'case_prison': 3199,\n",
              "   'case_walkin': 82206,\n",
              "   'case_new_prev': 95839,\n",
              "   'case_new_diff': -1082,\n",
              "   'death_new_prev': 1204,\n",
              "   'death_new_diff': -131,\n",
              "   'update_date': '2023-11-05 18:50:43'},\n",
              "  {'year': 2021,\n",
              "   'weeknum': 38,\n",
              "   'new_case': 86384,\n",
              "   'total_case': 1549285,\n",
              "   'new_case_excludeabroad': 86291,\n",
              "   'total_case_excludeabroad': 1543426,\n",
              "   'new_recovered': 91075,\n",
              "   'total_recovered': 1408602,\n",
              "   'new_death': 897,\n",
              "   'total_death': 16143,\n",
              "   'case_foreign': 93,\n",
              "   'case_prison': 2443,\n",
              "   'case_walkin': 75257,\n",
              "   'case_new_prev': 88518,\n",
              "   'case_new_diff': -2134,\n",
              "   'death_new_prev': 892,\n",
              "   'death_new_diff': 5,\n",
              "   'update_date': '2023-11-05 18:50:43'},\n",
              "  {'year': 2021,\n",
              "   'weeknum': 39,\n",
              "   'new_case': 77319,\n",
              "   'total_case': 1626604,\n",
              "   'new_case_excludeabroad': 77229,\n",
              "   'total_case_excludeabroad': 1620655,\n",
              "   'new_recovered': 87671,\n",
              "   'total_recovered': 1496273,\n",
              "   'new_death': 794,\n",
              "   'total_death': 16937,\n",
              "   'case_foreign': 90,\n",
              "   'case_prison': 1911,\n",
              "   'case_walkin': 68358,\n",
              "   'case_new_prev': 77918,\n",
              "   'case_new_diff': -599,\n",
              "   'death_new_prev': 834,\n",
              "   'death_new_diff': -40,\n",
              "   'update_date': '2023-11-05 18:50:43'},\n",
              "  {'year': 2021,\n",
              "   'weeknum': 40,\n",
              "   'new_case': 73463,\n",
              "   'total_case': 1700067,\n",
              "   'new_case_excludeabroad': 73364,\n",
              "   'total_case_excludeabroad': 1694019,\n",
              "   'new_recovered': 76059,\n",
              "   'total_recovered': 1572332,\n",
              "   'new_death': 670,\n",
              "   'total_death': 17607,\n",
              "   'case_foreign': 99,\n",
              "   'case_prison': 1061,\n",
              "   'case_walkin': 66359,\n",
              "   'case_new_prev': 74209,\n",
              "   'case_new_diff': -746,\n",
              "   'death_new_prev': 684,\n",
              "   'death_new_diff': -14,\n",
              "   'update_date': '2023-11-05 18:50:43'},\n",
              "  {'year': 2021,\n",
              "   'weeknum': 41,\n",
              "   'new_case': 72771,\n",
              "   'total_case': 1772838,\n",
              "   'new_case_excludeabroad': 72539,\n",
              "   'total_case_excludeabroad': 1766558,\n",
              "   'new_recovered': 74923,\n",
              "   'total_recovered': 1647255,\n",
              "   'new_death': 598,\n",
              "   'total_death': 18205,\n",
              "   'case_foreign': 232,\n",
              "   'case_prison': 861,\n",
              "   'case_walkin': 67347,\n",
              "   'case_new_prev': 72753,\n",
              "   'case_new_diff': 18,\n",
              "   'death_new_prev': 589,\n",
              "   'death_new_diff': 9,\n",
              "   'update_date': '2023-11-05 18:50:43'},\n",
              "  {'year': 2021,\n",
              "   'weeknum': 42,\n",
              "   'new_case': 68293,\n",
              "   'total_case': 1841131,\n",
              "   'new_case_excludeabroad': 68196,\n",
              "   'total_case_excludeabroad': 1834754,\n",
              "   'new_recovered': 73374,\n",
              "   'total_recovered': 1720629,\n",
              "   'new_death': 494,\n",
              "   'total_death': 18699,\n",
              "   'case_foreign': 97,\n",
              "   'case_prison': 523,\n",
              "   'case_walkin': 63947,\n",
              "   'case_new_prev': 69198,\n",
              "   'case_new_diff': -905,\n",
              "   'death_new_prev': 502,\n",
              "   'death_new_diff': -8,\n",
              "   'update_date': '2023-11-05 18:50:43'},\n",
              "  {'year': 2021,\n",
              "   'weeknum': 43,\n",
              "   'new_case': 62034,\n",
              "   'total_case': 1903165,\n",
              "   'new_case_excludeabroad': 61956,\n",
              "   'total_case_excludeabroad': 1896710,\n",
              "   'new_recovered': 63246,\n",
              "   'total_recovered': 1783875,\n",
              "   'new_death': 459,\n",
              "   'total_death': 19158,\n",
              "   'case_foreign': 78,\n",
              "   'case_prison': 1162,\n",
              "   'case_walkin': 57524,\n",
              "   'case_new_prev': 62553,\n",
              "   'case_new_diff': -519,\n",
              "   'death_new_prev': 445,\n",
              "   'death_new_diff': 14,\n",
              "   'update_date': '2023-11-05 18:50:43'},\n",
              "  {'year': 2021,\n",
              "   'weeknum': 44,\n",
              "   'new_case': 56874,\n",
              "   'total_case': 1960039,\n",
              "   'new_case_excludeabroad': 56797,\n",
              "   'total_case_excludeabroad': 1953507,\n",
              "   'new_recovered': 59143,\n",
              "   'total_recovered': 1843018,\n",
              "   'new_death': 453,\n",
              "   'total_death': 19611,\n",
              "   'case_foreign': 77,\n",
              "   'case_prison': 3525,\n",
              "   'case_walkin': 51705,\n",
              "   'case_new_prev': 57631,\n",
              "   'case_new_diff': -757,\n",
              "   'death_new_prev': 472,\n",
              "   'death_new_diff': -19,\n",
              "   'update_date': '2023-11-05 18:50:43'},\n",
              "  {'year': 2021,\n",
              "   'weeknum': 45,\n",
              "   'new_case': 51292,\n",
              "   'total_case': 2011331,\n",
              "   'new_case_excludeabroad': 51203,\n",
              "   'total_case_excludeabroad': 2004710,\n",
              "   'new_recovered': 52911,\n",
              "   'total_recovered': 1895929,\n",
              "   'new_death': 378,\n",
              "   'total_death': 19989,\n",
              "   'case_foreign': 89,\n",
              "   'case_prison': 2500,\n",
              "   'case_walkin': 46698,\n",
              "   'case_new_prev': 52702,\n",
              "   'case_new_diff': -1410,\n",
              "   'death_new_prev': 392,\n",
              "   'death_new_diff': -14,\n",
              "   'update_date': '2023-11-05 18:50:43'},\n",
              "  {'year': 2021,\n",
              "   'weeknum': 46,\n",
              "   'new_case': 46244,\n",
              "   'total_case': 2057575,\n",
              "   'new_case_excludeabroad': 46154,\n",
              "   'total_case_excludeabroad': 2050864,\n",
              "   'new_recovered': 53403,\n",
              "   'total_recovered': 1949332,\n",
              "   'new_death': 369,\n",
              "   'total_death': 20358,\n",
              "   'case_foreign': 90,\n",
              "   'case_prison': 1393,\n",
              "   'case_walkin': 42990,\n",
              "   'case_new_prev': 46706,\n",
              "   'case_new_diff': -462,\n",
              "   'death_new_prev': 371,\n",
              "   'death_new_diff': -2,\n",
              "   'update_date': '2023-11-05 18:50:43'},\n",
              "  {'year': 2021,\n",
              "   'weeknum': 47,\n",
              "   'new_case': 43384,\n",
              "   'total_case': 2100959,\n",
              "   'new_case_excludeabroad': 43244,\n",
              "   'total_case_excludeabroad': 2094108,\n",
              "   'new_recovered': 51170,\n",
              "   'total_recovered': 2000502,\n",
              "   'new_death': 319,\n",
              "   'total_death': 20677,\n",
              "   'case_foreign': 140,\n",
              "   'case_prison': 2607,\n",
              "   'case_walkin': 39243,\n",
              "   'case_new_prev': 43906,\n",
              "   'case_new_diff': -522,\n",
              "   'death_new_prev': 340,\n",
              "   'death_new_diff': -21,\n",
              "   'update_date': '2023-11-05 18:50:43'},\n",
              "  {'year': 2021,\n",
              "   'weeknum': 48,\n",
              "   'new_case': 35578,\n",
              "   'total_case': 2136537,\n",
              "   'new_case_excludeabroad': 35509,\n",
              "   'total_case_excludeabroad': 2129617,\n",
              "   'new_recovered': 42164,\n",
              "   'total_recovered': 2042666,\n",
              "   'new_death': 240,\n",
              "   'total_death': 20917,\n",
              "   'case_foreign': 69,\n",
              "   'case_prison': 2284,\n",
              "   'case_walkin': 32050,\n",
              "   'case_new_prev': 35755,\n",
              "   'case_new_diff': -177,\n",
              "   'death_new_prev': 235,\n",
              "   'death_new_diff': 5,\n",
              "   'update_date': '2023-11-05 18:50:43'},\n",
              "  {'year': 2021,\n",
              "   'weeknum': 49,\n",
              "   'new_case': 28322,\n",
              "   'total_case': 2164859,\n",
              "   'new_case_excludeabroad': 28218,\n",
              "   'total_case_excludeabroad': 2157835,\n",
              "   'new_recovered': 47587,\n",
              "   'total_recovered': 2090253,\n",
              "   'new_death': 234,\n",
              "   'total_death': 21151,\n",
              "   'case_foreign': 104,\n",
              "   'case_prison': 208,\n",
              "   'case_walkin': 27281,\n",
              "   'case_new_prev': 30139,\n",
              "   'case_new_diff': -1817,\n",
              "   'death_new_prev': 232,\n",
              "   'death_new_diff': 2,\n",
              "   'update_date': '2023-11-05 18:50:43'},\n",
              "  {'year': 2021,\n",
              "   'weeknum': 50,\n",
              "   'new_case': 23770,\n",
              "   'total_case': 2188629,\n",
              "   'new_case_excludeabroad': 23619,\n",
              "   'total_case_excludeabroad': 2181454,\n",
              "   'new_recovered': 33716,\n",
              "   'total_recovered': 2123969,\n",
              "   'new_death': 204,\n",
              "   'total_death': 21355,\n",
              "   'case_foreign': 151,\n",
              "   'case_prison': 554,\n",
              "   'case_walkin': 22751,\n",
              "   'case_new_prev': 24717,\n",
              "   'case_new_diff': -947,\n",
              "   'death_new_prev': 215,\n",
              "   'death_new_diff': -11,\n",
              "   'update_date': '2023-11-05 18:50:43'},\n",
              "  {'year': 2021,\n",
              "   'weeknum': 51,\n",
              "   'new_case': 18809,\n",
              "   'total_case': 2207438,\n",
              "   'new_case_excludeabroad': 18467,\n",
              "   'total_case_excludeabroad': 2199921,\n",
              "   'new_recovered': 24788,\n",
              "   'total_recovered': 2148757,\n",
              "   'new_death': 203,\n",
              "   'total_death': 21558,\n",
              "   'case_foreign': 342,\n",
              "   'case_prison': 307,\n",
              "   'case_walkin': 17758,\n",
              "   'case_new_prev': 19175,\n",
              "   'case_new_diff': -366,\n",
              "   'death_new_prev': 201,\n",
              "   'death_new_diff': 2,\n",
              "   'update_date': '2023-11-05 18:50:43'},\n",
              "  {'year': 2021,\n",
              "   'weeknum': 52,\n",
              "   'new_case': 15997,\n",
              "   'total_case': 2223435,\n",
              "   'new_case_excludeabroad': 15410,\n",
              "   'total_case_excludeabroad': 2215331,\n",
              "   'new_recovered': 19737,\n",
              "   'total_recovered': 2168494,\n",
              "   'new_death': 140,\n",
              "   'total_death': 21698,\n",
              "   'case_foreign': 587,\n",
              "   'case_prison': 370,\n",
              "   'case_walkin': 14757,\n",
              "   'case_new_prev': 15652,\n",
              "   'case_new_diff': 345,\n",
              "   'death_new_prev': 144,\n",
              "   'death_new_diff': -4,\n",
              "   'update_date': '2023-11-05 18:50:43'}],\n",
              " 'links': {'first': 'https://covid19.ddc.moph.go.th/api/Cases/report-round-3-y21-line-lists?page=1',\n",
              "  'last': 'https://covid19.ddc.moph.go.th/api/Cases/report-round-3-y21-line-lists?page=1',\n",
              "  'prev': None,\n",
              "  'next': None},\n",
              " 'meta': {'current_page': 1,\n",
              "  'from': 1,\n",
              "  'last_page': 1,\n",
              "  'links': [{'url': None, 'label': '&laquo; Previous', 'active': False},\n",
              "   {'url': 'https://covid19.ddc.moph.go.th/api/Cases/report-round-3-y21-line-lists?page=1',\n",
              "    'label': '1',\n",
              "    'active': True},\n",
              "   {'url': None, 'label': 'Next &raquo;', 'active': False}],\n",
              "  'path': 'https://covid19.ddc.moph.go.th/api/Cases/report-round-3-y21-line-lists',\n",
              "  'per_page': 1000,\n",
              "  'to': 40,\n",
              "  'total': 40}}"
            ]
          },
          "execution_count": 82,
          "metadata": {},
          "output_type": "execute_result"
        }
      ],
      "source": [
        "res.json()"
      ]
    },
    {
      "cell_type": "code",
      "execution_count": null,
      "metadata": {
        "id": "qEDAmrGjgdxG"
      },
      "outputs": [],
      "source": []
    },
    {
      "cell_type": "code",
      "execution_count": null,
      "metadata": {},
      "outputs": [],
      "source": []
    },
    {
      "cell_type": "code",
      "execution_count": null,
      "metadata": {},
      "outputs": [],
      "source": []
    },
    {
      "cell_type": "code",
      "execution_count": null,
      "metadata": {},
      "outputs": [],
      "source": []
    }
  ],
  "metadata": {
    "colab": {
      "provenance": []
    },
    "kernelspec": {
      "display_name": "Python 3",
      "name": "python3"
    },
    "language_info": {
      "codemirror_mode": {
        "name": "ipython",
        "version": 3
      },
      "file_extension": ".py",
      "mimetype": "text/x-python",
      "name": "python",
      "nbconvert_exporter": "python",
      "pygments_lexer": "ipython3",
      "version": "3.12.0"
    }
  },
  "nbformat": 4,
  "nbformat_minor": 0
}
